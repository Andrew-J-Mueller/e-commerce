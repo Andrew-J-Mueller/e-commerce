{
 "cells": [
  {
   "cell_type": "markdown",
   "id": "94c6c282",
   "metadata": {},
   "source": [
    "# Task 6.1E-commerce 2020 cleaning and consistency checks\n",
    "\n",
    "## 1 import and load data\n",
    "## 2 cleaning\n",
    "### 2a missing \n",
    "### 2b duplicates \n",
    "## 3 consistency\n"
   ]
  },
  {
   "cell_type": "code",
   "execution_count": 1,
   "id": "4409413b",
   "metadata": {},
   "outputs": [],
   "source": [
    "# import libraries\n",
    "\n",
    "import pandas as pd\n",
    "import numpy as np\n",
    "import os"
   ]
  },
  {
   "cell_type": "code",
   "execution_count": 2,
   "id": "b8db5765",
   "metadata": {},
   "outputs": [],
   "source": [
    "#load data\n",
    "#unicode decode error, using encoding=latin1 \n",
    "df = pd.read_csv(r\"C:\\Users\\andre\\OneDrive\\Documents\\coursework 2022\\CF\\Immersion\\Achievement 6\\2 data\\original us ecommerce 2020\\US  E-commerce records 2020.csv\", encoding = 'latin1')"
   ]
  },
  {
   "cell_type": "markdown",
   "id": "e58d5b30",
   "metadata": {},
   "source": [
    "## 2 cleaning\n"
   ]
  },
  {
   "cell_type": "code",
   "execution_count": 3,
   "id": "50eaed48",
   "metadata": {},
   "outputs": [
    {
     "data": {
      "text/html": [
       "<div>\n",
       "<style scoped>\n",
       "    .dataframe tbody tr th:only-of-type {\n",
       "        vertical-align: middle;\n",
       "    }\n",
       "\n",
       "    .dataframe tbody tr th {\n",
       "        vertical-align: top;\n",
       "    }\n",
       "\n",
       "    .dataframe thead th {\n",
       "        text-align: right;\n",
       "    }\n",
       "</style>\n",
       "<table border=\"1\" class=\"dataframe\">\n",
       "  <thead>\n",
       "    <tr style=\"text-align: right;\">\n",
       "      <th></th>\n",
       "      <th>Order Date</th>\n",
       "      <th>Row ID</th>\n",
       "      <th>Order ID</th>\n",
       "      <th>Ship Mode</th>\n",
       "      <th>Customer ID</th>\n",
       "      <th>Segment</th>\n",
       "      <th>Country</th>\n",
       "      <th>City</th>\n",
       "      <th>State</th>\n",
       "      <th>Postal Code</th>\n",
       "      <th>Region</th>\n",
       "      <th>Product ID</th>\n",
       "      <th>Category</th>\n",
       "      <th>Sub-Category</th>\n",
       "      <th>Product Name</th>\n",
       "      <th>Sales</th>\n",
       "      <th>Quantity</th>\n",
       "      <th>Discount</th>\n",
       "      <th>Profit</th>\n",
       "    </tr>\n",
       "  </thead>\n",
       "  <tbody>\n",
       "    <tr>\n",
       "      <th>0</th>\n",
       "      <td>01-01-20</td>\n",
       "      <td>849</td>\n",
       "      <td>CA-2017-107503</td>\n",
       "      <td>Standard Class</td>\n",
       "      <td>GA-14725</td>\n",
       "      <td>Consumer</td>\n",
       "      <td>United States</td>\n",
       "      <td>Lorain</td>\n",
       "      <td>Ohio</td>\n",
       "      <td>44052</td>\n",
       "      <td>East</td>\n",
       "      <td>FUR-FU-10003878</td>\n",
       "      <td>Furniture</td>\n",
       "      <td>Furnishings</td>\n",
       "      <td>Linden 10\" Round Wall Clock, Black</td>\n",
       "      <td>48.896</td>\n",
       "      <td>4</td>\n",
       "      <td>0.2</td>\n",
       "      <td>8.5568</td>\n",
       "    </tr>\n",
       "    <tr>\n",
       "      <th>1</th>\n",
       "      <td>01-01-20</td>\n",
       "      <td>4010</td>\n",
       "      <td>CA-2017-144463</td>\n",
       "      <td>Standard Class</td>\n",
       "      <td>SC-20725</td>\n",
       "      <td>Consumer</td>\n",
       "      <td>United States</td>\n",
       "      <td>Los Angeles</td>\n",
       "      <td>California</td>\n",
       "      <td>90036</td>\n",
       "      <td>West</td>\n",
       "      <td>FUR-FU-10001215</td>\n",
       "      <td>Furniture</td>\n",
       "      <td>Furnishings</td>\n",
       "      <td>Howard Miller 11-1/2\" Diameter Brentwood Wall ...</td>\n",
       "      <td>474.430</td>\n",
       "      <td>11</td>\n",
       "      <td>0.0</td>\n",
       "      <td>199.2606</td>\n",
       "    </tr>\n",
       "    <tr>\n",
       "      <th>2</th>\n",
       "      <td>01-01-20</td>\n",
       "      <td>6683</td>\n",
       "      <td>CA-2017-154466</td>\n",
       "      <td>First Class</td>\n",
       "      <td>DP-13390</td>\n",
       "      <td>Home Office</td>\n",
       "      <td>United States</td>\n",
       "      <td>Franklin</td>\n",
       "      <td>Wisconsin</td>\n",
       "      <td>53132</td>\n",
       "      <td>Central</td>\n",
       "      <td>OFF-BI-10002012</td>\n",
       "      <td>Office Supplies</td>\n",
       "      <td>Binders</td>\n",
       "      <td>Wilson Jones Easy Flow II Sheet Lifters</td>\n",
       "      <td>3.600</td>\n",
       "      <td>2</td>\n",
       "      <td>0.0</td>\n",
       "      <td>1.7280</td>\n",
       "    </tr>\n",
       "    <tr>\n",
       "      <th>3</th>\n",
       "      <td>01-01-20</td>\n",
       "      <td>8070</td>\n",
       "      <td>CA-2017-151750</td>\n",
       "      <td>Standard Class</td>\n",
       "      <td>JM-15250</td>\n",
       "      <td>Consumer</td>\n",
       "      <td>United States</td>\n",
       "      <td>Huntsville</td>\n",
       "      <td>Texas</td>\n",
       "      <td>77340</td>\n",
       "      <td>Central</td>\n",
       "      <td>OFF-ST-10002743</td>\n",
       "      <td>Office Supplies</td>\n",
       "      <td>Storage</td>\n",
       "      <td>SAFCO Boltless Steel Shelving</td>\n",
       "      <td>454.560</td>\n",
       "      <td>5</td>\n",
       "      <td>0.2</td>\n",
       "      <td>-107.9580</td>\n",
       "    </tr>\n",
       "    <tr>\n",
       "      <th>4</th>\n",
       "      <td>01-01-20</td>\n",
       "      <td>8071</td>\n",
       "      <td>CA-2017-151750</td>\n",
       "      <td>Standard Class</td>\n",
       "      <td>JM-15250</td>\n",
       "      <td>Consumer</td>\n",
       "      <td>United States</td>\n",
       "      <td>Huntsville</td>\n",
       "      <td>Texas</td>\n",
       "      <td>77340</td>\n",
       "      <td>Central</td>\n",
       "      <td>FUR-FU-10002116</td>\n",
       "      <td>Furniture</td>\n",
       "      <td>Furnishings</td>\n",
       "      <td>Tenex Carpeted, Granite-Look or Clear Contempo...</td>\n",
       "      <td>141.420</td>\n",
       "      <td>5</td>\n",
       "      <td>0.6</td>\n",
       "      <td>-187.3815</td>\n",
       "    </tr>\n",
       "    <tr>\n",
       "      <th>...</th>\n",
       "      <td>...</td>\n",
       "      <td>...</td>\n",
       "      <td>...</td>\n",
       "      <td>...</td>\n",
       "      <td>...</td>\n",
       "      <td>...</td>\n",
       "      <td>...</td>\n",
       "      <td>...</td>\n",
       "      <td>...</td>\n",
       "      <td>...</td>\n",
       "      <td>...</td>\n",
       "      <td>...</td>\n",
       "      <td>...</td>\n",
       "      <td>...</td>\n",
       "      <td>...</td>\n",
       "      <td>...</td>\n",
       "      <td>...</td>\n",
       "      <td>...</td>\n",
       "      <td>...</td>\n",
       "    </tr>\n",
       "    <tr>\n",
       "      <th>3307</th>\n",
       "      <td>30-12-20</td>\n",
       "      <td>908</td>\n",
       "      <td>CA-2017-143259</td>\n",
       "      <td>Standard Class</td>\n",
       "      <td>PO-18865</td>\n",
       "      <td>Consumer</td>\n",
       "      <td>United States</td>\n",
       "      <td>New York City</td>\n",
       "      <td>New York</td>\n",
       "      <td>10009</td>\n",
       "      <td>East</td>\n",
       "      <td>TEC-PH-10004774</td>\n",
       "      <td>Technology</td>\n",
       "      <td>Phones</td>\n",
       "      <td>Gear Head AU3700S Headset</td>\n",
       "      <td>90.930</td>\n",
       "      <td>7</td>\n",
       "      <td>0.0</td>\n",
       "      <td>2.7279</td>\n",
       "    </tr>\n",
       "    <tr>\n",
       "      <th>3308</th>\n",
       "      <td>30-12-20</td>\n",
       "      <td>909</td>\n",
       "      <td>CA-2017-143259</td>\n",
       "      <td>Standard Class</td>\n",
       "      <td>PO-18865</td>\n",
       "      <td>Consumer</td>\n",
       "      <td>United States</td>\n",
       "      <td>New York City</td>\n",
       "      <td>New York</td>\n",
       "      <td>10009</td>\n",
       "      <td>East</td>\n",
       "      <td>OFF-BI-10003684</td>\n",
       "      <td>Office Supplies</td>\n",
       "      <td>Binders</td>\n",
       "      <td>Wilson Jones Legal Size Ring Binders</td>\n",
       "      <td>52.776</td>\n",
       "      <td>3</td>\n",
       "      <td>0.2</td>\n",
       "      <td>19.7910</td>\n",
       "    </tr>\n",
       "    <tr>\n",
       "      <th>3309</th>\n",
       "      <td>30-12-20</td>\n",
       "      <td>1297</td>\n",
       "      <td>CA-2017-115427</td>\n",
       "      <td>Standard Class</td>\n",
       "      <td>EB-13975</td>\n",
       "      <td>Corporate</td>\n",
       "      <td>United States</td>\n",
       "      <td>Fairfield</td>\n",
       "      <td>California</td>\n",
       "      <td>94533</td>\n",
       "      <td>West</td>\n",
       "      <td>OFF-BI-10002103</td>\n",
       "      <td>Office Supplies</td>\n",
       "      <td>Binders</td>\n",
       "      <td>Cardinal Slant-D Ring Binder, Heavy Gauge Vinyl</td>\n",
       "      <td>13.904</td>\n",
       "      <td>2</td>\n",
       "      <td>0.2</td>\n",
       "      <td>4.5188</td>\n",
       "    </tr>\n",
       "    <tr>\n",
       "      <th>3310</th>\n",
       "      <td>30-12-20</td>\n",
       "      <td>1298</td>\n",
       "      <td>CA-2017-115427</td>\n",
       "      <td>Standard Class</td>\n",
       "      <td>EB-13975</td>\n",
       "      <td>Corporate</td>\n",
       "      <td>United States</td>\n",
       "      <td>Fairfield</td>\n",
       "      <td>California</td>\n",
       "      <td>94533</td>\n",
       "      <td>West</td>\n",
       "      <td>OFF-BI-10004632</td>\n",
       "      <td>Office Supplies</td>\n",
       "      <td>Binders</td>\n",
       "      <td>GBC Binding covers</td>\n",
       "      <td>20.720</td>\n",
       "      <td>2</td>\n",
       "      <td>0.2</td>\n",
       "      <td>6.4750</td>\n",
       "    </tr>\n",
       "    <tr>\n",
       "      <th>3311</th>\n",
       "      <td>30-12-20</td>\n",
       "      <td>5092</td>\n",
       "      <td>CA-2017-156720</td>\n",
       "      <td>Standard Class</td>\n",
       "      <td>JM-15580</td>\n",
       "      <td>Consumer</td>\n",
       "      <td>United States</td>\n",
       "      <td>Loveland</td>\n",
       "      <td>Colorado</td>\n",
       "      <td>80538</td>\n",
       "      <td>West</td>\n",
       "      <td>OFF-FA-10003472</td>\n",
       "      <td>Office Supplies</td>\n",
       "      <td>Fasteners</td>\n",
       "      <td>Bagged Rubber Bands</td>\n",
       "      <td>3.024</td>\n",
       "      <td>3</td>\n",
       "      <td>0.2</td>\n",
       "      <td>-0.6048</td>\n",
       "    </tr>\n",
       "  </tbody>\n",
       "</table>\n",
       "<p>3312 rows × 19 columns</p>\n",
       "</div>"
      ],
      "text/plain": [
       "     Order Date  Row ID        Order ID       Ship Mode Customer ID  \\\n",
       "0      01-01-20     849  CA-2017-107503  Standard Class    GA-14725   \n",
       "1      01-01-20    4010  CA-2017-144463  Standard Class    SC-20725   \n",
       "2      01-01-20    6683  CA-2017-154466     First Class    DP-13390   \n",
       "3      01-01-20    8070  CA-2017-151750  Standard Class    JM-15250   \n",
       "4      01-01-20    8071  CA-2017-151750  Standard Class    JM-15250   \n",
       "...         ...     ...             ...             ...         ...   \n",
       "3307   30-12-20     908  CA-2017-143259  Standard Class    PO-18865   \n",
       "3308   30-12-20     909  CA-2017-143259  Standard Class    PO-18865   \n",
       "3309   30-12-20    1297  CA-2017-115427  Standard Class    EB-13975   \n",
       "3310   30-12-20    1298  CA-2017-115427  Standard Class    EB-13975   \n",
       "3311   30-12-20    5092  CA-2017-156720  Standard Class    JM-15580   \n",
       "\n",
       "          Segment        Country           City       State  Postal Code  \\\n",
       "0        Consumer  United States         Lorain        Ohio        44052   \n",
       "1        Consumer  United States    Los Angeles  California        90036   \n",
       "2     Home Office  United States       Franklin   Wisconsin        53132   \n",
       "3        Consumer  United States     Huntsville       Texas        77340   \n",
       "4        Consumer  United States     Huntsville       Texas        77340   \n",
       "...           ...            ...            ...         ...          ...   \n",
       "3307     Consumer  United States  New York City    New York        10009   \n",
       "3308     Consumer  United States  New York City    New York        10009   \n",
       "3309    Corporate  United States      Fairfield  California        94533   \n",
       "3310    Corporate  United States      Fairfield  California        94533   \n",
       "3311     Consumer  United States       Loveland    Colorado        80538   \n",
       "\n",
       "       Region       Product ID         Category Sub-Category  \\\n",
       "0        East  FUR-FU-10003878        Furniture  Furnishings   \n",
       "1        West  FUR-FU-10001215        Furniture  Furnishings   \n",
       "2     Central  OFF-BI-10002012  Office Supplies      Binders   \n",
       "3     Central  OFF-ST-10002743  Office Supplies      Storage   \n",
       "4     Central  FUR-FU-10002116        Furniture  Furnishings   \n",
       "...       ...              ...              ...          ...   \n",
       "3307     East  TEC-PH-10004774       Technology       Phones   \n",
       "3308     East  OFF-BI-10003684  Office Supplies      Binders   \n",
       "3309     West  OFF-BI-10002103  Office Supplies      Binders   \n",
       "3310     West  OFF-BI-10004632  Office Supplies      Binders   \n",
       "3311     West  OFF-FA-10003472  Office Supplies    Fasteners   \n",
       "\n",
       "                                           Product Name    Sales  Quantity  \\\n",
       "0                    Linden 10\" Round Wall Clock, Black   48.896         4   \n",
       "1     Howard Miller 11-1/2\" Diameter Brentwood Wall ...  474.430        11   \n",
       "2               Wilson Jones Easy Flow II Sheet Lifters    3.600         2   \n",
       "3                         SAFCO Boltless Steel Shelving  454.560         5   \n",
       "4     Tenex Carpeted, Granite-Look or Clear Contempo...  141.420         5   \n",
       "...                                                 ...      ...       ...   \n",
       "3307                          Gear Head AU3700S Headset   90.930         7   \n",
       "3308               Wilson Jones Legal Size Ring Binders   52.776         3   \n",
       "3309    Cardinal Slant-D Ring Binder, Heavy Gauge Vinyl   13.904         2   \n",
       "3310                                 GBC Binding covers   20.720         2   \n",
       "3311                                Bagged Rubber Bands    3.024         3   \n",
       "\n",
       "      Discount    Profit  \n",
       "0          0.2    8.5568  \n",
       "1          0.0  199.2606  \n",
       "2          0.0    1.7280  \n",
       "3          0.2 -107.9580  \n",
       "4          0.6 -187.3815  \n",
       "...        ...       ...  \n",
       "3307       0.0    2.7279  \n",
       "3308       0.2   19.7910  \n",
       "3309       0.2    4.5188  \n",
       "3310       0.2    6.4750  \n",
       "3311       0.2   -0.6048  \n",
       "\n",
       "[3312 rows x 19 columns]"
      ]
     },
     "execution_count": 3,
     "metadata": {},
     "output_type": "execute_result"
    }
   ],
   "source": [
    "#check head, tail, shape\n",
    "df"
   ]
  },
  {
   "cell_type": "code",
   "execution_count": 4,
   "id": "076ab946",
   "metadata": {
    "scrolled": true
   },
   "outputs": [
    {
     "name": "stdout",
     "output_type": "stream",
     "text": [
      "<class 'pandas.core.frame.DataFrame'>\n",
      "RangeIndex: 3312 entries, 0 to 3311\n",
      "Data columns (total 19 columns):\n",
      " #   Column        Non-Null Count  Dtype  \n",
      "---  ------        --------------  -----  \n",
      " 0   Order Date    3312 non-null   object \n",
      " 1   Row ID        3312 non-null   int64  \n",
      " 2   Order ID      3312 non-null   object \n",
      " 3   Ship Mode     3312 non-null   object \n",
      " 4   Customer ID   3312 non-null   object \n",
      " 5   Segment       3312 non-null   object \n",
      " 6   Country       3312 non-null   object \n",
      " 7   City          3312 non-null   object \n",
      " 8   State         3312 non-null   object \n",
      " 9   Postal Code   3312 non-null   int64  \n",
      " 10  Region        3312 non-null   object \n",
      " 11  Product ID    3312 non-null   object \n",
      " 12  Category      3312 non-null   object \n",
      " 13  Sub-Category  3312 non-null   object \n",
      " 14  Product Name  3312 non-null   object \n",
      " 15  Sales         3312 non-null   float64\n",
      " 16  Quantity      3312 non-null   int64  \n",
      " 17  Discount      3312 non-null   float64\n",
      " 18  Profit        3312 non-null   float64\n",
      "dtypes: float64(3), int64(3), object(13)\n",
      "memory usage: 491.8+ KB\n"
     ]
    }
   ],
   "source": [
    "# data types \n",
    "df.info()"
   ]
  },
  {
   "cell_type": "code",
   "execution_count": 5,
   "id": "7beabf60",
   "metadata": {},
   "outputs": [],
   "source": [
    "#change Order Date data type for analysis\n",
    "df['Order Date'] = df['Order Date'].astype('datetime64')"
   ]
  },
  {
   "cell_type": "code",
   "execution_count": 6,
   "id": "4ce36532",
   "metadata": {},
   "outputs": [
    {
     "data": {
      "text/html": [
       "<div>\n",
       "<style scoped>\n",
       "    .dataframe tbody tr th:only-of-type {\n",
       "        vertical-align: middle;\n",
       "    }\n",
       "\n",
       "    .dataframe tbody tr th {\n",
       "        vertical-align: top;\n",
       "    }\n",
       "\n",
       "    .dataframe thead th {\n",
       "        text-align: right;\n",
       "    }\n",
       "</style>\n",
       "<table border=\"1\" class=\"dataframe\">\n",
       "  <thead>\n",
       "    <tr style=\"text-align: right;\">\n",
       "      <th></th>\n",
       "      <th>Row ID</th>\n",
       "      <th>Postal Code</th>\n",
       "      <th>Sales</th>\n",
       "      <th>Quantity</th>\n",
       "      <th>Discount</th>\n",
       "      <th>Profit</th>\n",
       "    </tr>\n",
       "  </thead>\n",
       "  <tbody>\n",
       "    <tr>\n",
       "      <th>count</th>\n",
       "      <td>3312.000000</td>\n",
       "      <td>3312.000000</td>\n",
       "      <td>3312.000000</td>\n",
       "      <td>3312.000000</td>\n",
       "      <td>3312.000000</td>\n",
       "      <td>3312.000000</td>\n",
       "    </tr>\n",
       "    <tr>\n",
       "      <th>mean</th>\n",
       "      <td>5087.107488</td>\n",
       "      <td>56186.515097</td>\n",
       "      <td>221.381418</td>\n",
       "      <td>3.766908</td>\n",
       "      <td>0.156467</td>\n",
       "      <td>28.212340</td>\n",
       "    </tr>\n",
       "    <tr>\n",
       "      <th>std</th>\n",
       "      <td>2817.482266</td>\n",
       "      <td>31980.375516</td>\n",
       "      <td>585.257531</td>\n",
       "      <td>2.221776</td>\n",
       "      <td>0.207429</td>\n",
       "      <td>241.864342</td>\n",
       "    </tr>\n",
       "    <tr>\n",
       "      <th>min</th>\n",
       "      <td>13.000000</td>\n",
       "      <td>1841.000000</td>\n",
       "      <td>0.444000</td>\n",
       "      <td>1.000000</td>\n",
       "      <td>0.000000</td>\n",
       "      <td>-3839.990400</td>\n",
       "    </tr>\n",
       "    <tr>\n",
       "      <th>25%</th>\n",
       "      <td>2655.750000</td>\n",
       "      <td>27978.750000</td>\n",
       "      <td>17.018000</td>\n",
       "      <td>2.000000</td>\n",
       "      <td>0.000000</td>\n",
       "      <td>1.763200</td>\n",
       "    </tr>\n",
       "    <tr>\n",
       "      <th>50%</th>\n",
       "      <td>5183.500000</td>\n",
       "      <td>60472.500000</td>\n",
       "      <td>53.810000</td>\n",
       "      <td>3.000000</td>\n",
       "      <td>0.200000</td>\n",
       "      <td>8.296800</td>\n",
       "    </tr>\n",
       "    <tr>\n",
       "      <th>75%</th>\n",
       "      <td>7498.250000</td>\n",
       "      <td>90032.000000</td>\n",
       "      <td>205.105700</td>\n",
       "      <td>5.000000</td>\n",
       "      <td>0.200000</td>\n",
       "      <td>28.315125</td>\n",
       "    </tr>\n",
       "    <tr>\n",
       "      <th>max</th>\n",
       "      <td>9994.000000</td>\n",
       "      <td>99301.000000</td>\n",
       "      <td>13999.960000</td>\n",
       "      <td>14.000000</td>\n",
       "      <td>0.800000</td>\n",
       "      <td>6719.980800</td>\n",
       "    </tr>\n",
       "  </tbody>\n",
       "</table>\n",
       "</div>"
      ],
      "text/plain": [
       "            Row ID   Postal Code         Sales     Quantity     Discount  \\\n",
       "count  3312.000000   3312.000000   3312.000000  3312.000000  3312.000000   \n",
       "mean   5087.107488  56186.515097    221.381418     3.766908     0.156467   \n",
       "std    2817.482266  31980.375516    585.257531     2.221776     0.207429   \n",
       "min      13.000000   1841.000000      0.444000     1.000000     0.000000   \n",
       "25%    2655.750000  27978.750000     17.018000     2.000000     0.000000   \n",
       "50%    5183.500000  60472.500000     53.810000     3.000000     0.200000   \n",
       "75%    7498.250000  90032.000000    205.105700     5.000000     0.200000   \n",
       "max    9994.000000  99301.000000  13999.960000    14.000000     0.800000   \n",
       "\n",
       "            Profit  \n",
       "count  3312.000000  \n",
       "mean     28.212340  \n",
       "std     241.864342  \n",
       "min   -3839.990400  \n",
       "25%       1.763200  \n",
       "50%       8.296800  \n",
       "75%      28.315125  \n",
       "max    6719.980800  "
      ]
     },
     "execution_count": 6,
     "metadata": {},
     "output_type": "execute_result"
    }
   ],
   "source": [
    "# descriptive stats \n",
    "df.describe()"
   ]
  },
  {
   "cell_type": "markdown",
   "id": "3e8ea2e6",
   "metadata": {},
   "source": [
    "#### sales min needs to be explored\n",
    "#### profit min needs to be explored and max could be outlier"
   ]
  },
  {
   "cell_type": "markdown",
   "id": "5f33b715",
   "metadata": {},
   "source": [
    "### 2a missing values"
   ]
  },
  {
   "cell_type": "code",
   "execution_count": 7,
   "id": "3469c0ec",
   "metadata": {
    "scrolled": true
   },
   "outputs": [
    {
     "data": {
      "text/plain": [
       "Order Date      0\n",
       "Row ID          0\n",
       "Order ID        0\n",
       "Ship Mode       0\n",
       "Customer ID     0\n",
       "Segment         0\n",
       "Country         0\n",
       "City            0\n",
       "State           0\n",
       "Postal Code     0\n",
       "Region          0\n",
       "Product ID      0\n",
       "Category        0\n",
       "Sub-Category    0\n",
       "Product Name    0\n",
       "Sales           0\n",
       "Quantity        0\n",
       "Discount        0\n",
       "Profit          0\n",
       "dtype: int64"
      ]
     },
     "execution_count": 7,
     "metadata": {},
     "output_type": "execute_result"
    }
   ],
   "source": [
    "#verify count of null values\n",
    "df.isnull().sum()"
   ]
  },
  {
   "cell_type": "code",
   "execution_count": 8,
   "id": "01e2d95a",
   "metadata": {},
   "outputs": [
    {
     "data": {
      "text/plain": [
       "0"
      ]
     },
     "execution_count": 8,
     "metadata": {},
     "output_type": "execute_result"
    }
   ],
   "source": [
    "#check for dups\n",
    "df.duplicated().sum()"
   ]
  },
  {
   "cell_type": "markdown",
   "id": "62c69d1d",
   "metadata": {},
   "source": [
    "### 2 cleaning summary:\n",
    "3312 rows \n",
    "19 columns\n",
    "'Order Date' data type changed to datetime \n",
    "no missing values\n",
    "no duplicates\n"
   ]
  },
  {
   "cell_type": "markdown",
   "id": "3f0a7b95",
   "metadata": {},
   "source": [
    "## 3 consistency "
   ]
  },
  {
   "cell_type": "code",
   "execution_count": 9,
   "id": "33ce5da9",
   "metadata": {},
   "outputs": [
    {
     "data": {
      "text/plain": [
       "2020-02-09    36\n",
       "2020-02-12    34\n",
       "2020-01-12    34\n",
       "2020-09-12    33\n",
       "2020-12-11    30\n",
       "              ..\n",
       "2020-04-02     1\n",
       "2020-06-12     1\n",
       "2020-03-29     1\n",
       "2020-03-14     1\n",
       "2020-12-07     1\n",
       "Name: Order Date, Length: 322, dtype: int64"
      ]
     },
     "execution_count": 9,
     "metadata": {},
     "output_type": "execute_result"
    }
   ],
   "source": [
    "#checking value spread \n",
    "df['Order Date'].value_counts()"
   ]
  },
  {
   "cell_type": "code",
   "execution_count": 10,
   "id": "df8c11f6",
   "metadata": {
    "scrolled": true
   },
   "outputs": [
    {
     "data": {
      "text/plain": [
       "306"
      ]
     },
     "execution_count": 10,
     "metadata": {},
     "output_type": "execute_result"
    }
   ],
   "source": [
    "(df['Order Date'].value_counts() > 1).sum()"
   ]
  },
  {
   "cell_type": "code",
   "execution_count": 11,
   "id": "937a44dd",
   "metadata": {
    "scrolled": true
   },
   "outputs": [
    {
     "data": {
      "text/plain": [
       "135"
      ]
     },
     "execution_count": 11,
     "metadata": {},
     "output_type": "execute_result"
    }
   ],
   "source": [
    "(df['Order Date'].value_counts() > 10).sum()"
   ]
  },
  {
   "cell_type": "markdown",
   "id": "e1163e33",
   "metadata": {},
   "source": [
    "#### frequencies in order date column show some potential for trend analysis"
   ]
  },
  {
   "cell_type": "code",
   "execution_count": 12,
   "id": "bf6a6f2f",
   "metadata": {},
   "outputs": [
    {
     "data": {
      "text/plain": [
       "0"
      ]
     },
     "execution_count": 12,
     "metadata": {},
     "output_type": "execute_result"
    }
   ],
   "source": [
    "#row id count unique values\n",
    "df['Row ID'].duplicated().sum()"
   ]
  },
  {
   "cell_type": "markdown",
   "id": "b7ccf9a8",
   "metadata": {},
   "source": [
    "#### row id is only unique column in table "
   ]
  },
  {
   "cell_type": "code",
   "execution_count": 13,
   "id": "6c71e64b",
   "metadata": {
    "scrolled": true
   },
   "outputs": [
    {
     "data": {
      "text/plain": [
       "CA-2017-100111    14\n",
       "CA-2017-157987    12\n",
       "CA-2017-140949     9\n",
       "CA-2017-117457     9\n",
       "CA-2017-140872     8\n",
       "                  ..\n",
       "CA-2017-145443     1\n",
       "CA-2017-115175     1\n",
       "CA-2017-158344     1\n",
       "CA-2017-163321     1\n",
       "CA-2017-156720     1\n",
       "Name: Order ID, Length: 1687, dtype: int64"
      ]
     },
     "execution_count": 13,
     "metadata": {},
     "output_type": "execute_result"
    }
   ],
   "source": [
    "#checking for duplicates to see if used as key\n",
    "df['Order ID'].value_counts()"
   ]
  },
  {
   "cell_type": "markdown",
   "id": "28785298",
   "metadata": {},
   "source": [
    "#### shows duplicates, some orders have more than 1 item "
   ]
  },
  {
   "cell_type": "code",
   "execution_count": 14,
   "id": "c5d9da7e",
   "metadata": {
    "scrolled": true
   },
   "outputs": [
    {
     "data": {
      "text/plain": [
       "Standard Class    1897\n",
       "Second Class       657\n",
       "First Class        572\n",
       "Same Day           186\n",
       "Name: Ship Mode, dtype: int64"
      ]
     },
     "execution_count": 14,
     "metadata": {},
     "output_type": "execute_result"
    }
   ],
   "source": [
    "#checking for uniqueness and consistency in qualitative columns \n",
    "df['Ship Mode'].value_counts()"
   ]
  },
  {
   "cell_type": "code",
   "execution_count": 15,
   "id": "d37a94cd",
   "metadata": {
    "scrolled": true
   },
   "outputs": [
    {
     "data": {
      "text/plain": [
       "Standard Class    1897\n",
       "Second Class       657\n",
       "First Class        572\n",
       "Same Day           186\n",
       "Name: Ship Mode, dtype: int64"
      ]
     },
     "execution_count": 15,
     "metadata": {},
     "output_type": "execute_result"
    }
   ],
   "source": [
    "#checking for uniqueness and consistency in qualitative columns \n",
    "df['Ship Mode'].value_counts()"
   ]
  },
  {
   "cell_type": "code",
   "execution_count": 16,
   "id": "9b4a2454",
   "metadata": {
    "scrolled": true
   },
   "outputs": [
    {
     "data": {
      "text/plain": [
       "Standard Class    1897\n",
       "Second Class       657\n",
       "First Class        572\n",
       "Same Day           186\n",
       "Name: Ship Mode, dtype: int64"
      ]
     },
     "execution_count": 16,
     "metadata": {},
     "output_type": "execute_result"
    }
   ],
   "source": [
    "#checking for uniqueness and consistency in qualitative columns \n",
    "df['Ship Mode'].value_counts()"
   ]
  },
  {
   "cell_type": "code",
   "execution_count": 17,
   "id": "e9dae741",
   "metadata": {
    "scrolled": true
   },
   "outputs": [
    {
     "data": {
      "text/plain": [
       "SV-20365    20\n",
       "JL-15835    20\n",
       "MH-18115    19\n",
       "Dp-13240    19\n",
       "LC-16870    17\n",
       "            ..\n",
       "LW-16825     1\n",
       "NW-18400     1\n",
       "TN-21040     1\n",
       "BF-10975     1\n",
       "JM-15580     1\n",
       "Name: Customer ID, Length: 693, dtype: int64"
      ]
     },
     "execution_count": 17,
     "metadata": {},
     "output_type": "execute_result"
    }
   ],
   "source": [
    "#checking for uniqueness and consistency in qualitative columns \n",
    "df['Customer ID'].value_counts()"
   ]
  },
  {
   "cell_type": "code",
   "execution_count": 18,
   "id": "773dd4c1",
   "metadata": {
    "scrolled": false
   },
   "outputs": [
    {
     "name": "stdout",
     "output_type": "stream",
     "text": [
      "Consumer       1668\n",
      "Corporate       980\n",
      "Home Office     664\n",
      "Name: Segment, dtype: int64\n",
      "United States    3312\n",
      "Name: Country, dtype: int64\n",
      "New York City    306\n",
      "Los Angeles      210\n",
      "San Francisco    190\n",
      "Seattle          182\n",
      "Philadelphia     182\n",
      "                ... \n",
      "Boise              1\n",
      "Lebanon            1\n",
      "Hesperia           1\n",
      "Kissimmee          1\n",
      "East Orange        1\n",
      "Name: City, Length: 350, dtype: int64\n",
      "California              663\n",
      "New York                352\n",
      "Texas                   317\n",
      "Washington              215\n",
      "Pennsylvania            197\n",
      "Illinois                172\n",
      "Ohio                    161\n",
      "Florida                 126\n",
      "North Carolina           85\n",
      "Tennessee                81\n",
      "Arizona                  70\n",
      "Michigan                 67\n",
      "Georgia                  62\n",
      "Colorado                 61\n",
      "Indiana                  61\n",
      "Kentucky                 51\n",
      "New Jersey               43\n",
      "Virginia                 43\n",
      "Massachusetts            39\n",
      "Minnesota                38\n",
      "Maryland                 37\n",
      "Connecticut              34\n",
      "Wisconsin                33\n",
      "Oregon                   30\n",
      "Missouri                 26\n",
      "New Mexico               22\n",
      "Rhode Island             21\n",
      "Arkansas                 19\n",
      "Delaware                 19\n",
      "Oklahoma                 17\n",
      "Iowa                     16\n",
      "Alabama                  16\n",
      "Utah                     15\n",
      "Louisiana                14\n",
      "Mississippi              13\n",
      "Nebraska                 10\n",
      "South Carolina            8\n",
      "Idaho                     8\n",
      "South Dakota              8\n",
      "North Dakota              7\n",
      "New Hampshire             7\n",
      "Nevada                    6\n",
      "Kansas                    6\n",
      "Montana                   5\n",
      "Vermont                   5\n",
      "West Virginia             4\n",
      "District of Columbia      2\n",
      "Name: State, dtype: int64\n",
      "10035    89\n",
      "10009    81\n",
      "10024    73\n",
      "98105    71\n",
      "94122    70\n",
      "         ..\n",
      "93010     1\n",
      "72756     1\n",
      "95336     1\n",
      "93534     1\n",
      "72762     1\n",
      "Name: Postal Code, Length: 437, dtype: int64\n",
      "West       1095\n",
      "East        921\n",
      "Central     778\n",
      "South       518\n",
      "Name: Region, dtype: int64\n",
      "FUR-CH-10003774    8\n",
      "OFF-PA-10001970    7\n",
      "OFF-ST-10003208    7\n",
      "OFF-ST-10001325    7\n",
      "TEC-AC-10004510    7\n",
      "                  ..\n",
      "OFF-AP-10002439    1\n",
      "OFF-SU-10002522    1\n",
      "OFF-AP-10001005    1\n",
      "FUR-FU-10003424    1\n",
      "TEC-PH-10004774    1\n",
      "Name: Product ID, Length: 1525, dtype: int64\n",
      "Office Supplies    2002\n",
      "Furniture           686\n",
      "Technology          624\n",
      "Name: Category, dtype: int64\n",
      "Binders        500\n",
      "Paper          459\n",
      "Furnishings    316\n",
      "Phones         294\n",
      "Storage        288\n",
      "Art            282\n",
      "Accessories    275\n",
      "Chairs         190\n",
      "Appliances     165\n",
      "Labels         114\n",
      "Tables         104\n",
      "Bookcases       76\n",
      "Envelopes       71\n",
      "Fasteners       64\n",
      "Supplies        59\n",
      "Machines        33\n",
      "Copiers         22\n",
      "Name: Sub-Category, dtype: int64\n",
      "Easy-staple paper                             16\n",
      "Staples                                       15\n",
      "Staples in misc. colors                       12\n",
      "Staple envelope                               11\n",
      "Staple remover                                 8\n",
      "                                              ..\n",
      "Sanford Liquid Accent Highlighters             1\n",
      "Avery 480                                      1\n",
      "3M Office Air Cleaner                          1\n",
      "Polycom SoundPoint Pro SE-225 Corded phone     1\n",
      "GBC Binding covers                             1\n",
      "Name: Product Name, Length: 1511, dtype: int64\n",
      "12.960     20\n",
      "15.552     14\n",
      "19.440     13\n",
      "25.920     13\n",
      "20.736     12\n",
      "           ..\n",
      "31.155      1\n",
      "10.332      1\n",
      "37.608      1\n",
      "447.840     1\n",
      "3.024       1\n",
      "Name: Sales, Length: 2552, dtype: int64\n",
      "2     781\n",
      "3     759\n",
      "5     441\n",
      "4     398\n",
      "1     337\n",
      "7     190\n",
      "6     173\n",
      "8      99\n",
      "9      80\n",
      "10     18\n",
      "11     13\n",
      "14      8\n",
      "13      8\n",
      "12      7\n",
      "Name: Quantity, dtype: int64\n",
      "0.00    1590\n",
      "0.20    1223\n",
      "0.70     138\n",
      "0.80     107\n",
      "0.40      69\n",
      "0.30      68\n",
      "0.60      39\n",
      "0.10      28\n",
      "0.50      19\n",
      "0.15      16\n",
      "0.32      11\n",
      "0.45       4\n",
      "Name: Discount, dtype: int64\n",
      " 0.0000     19\n",
      " 6.2208     16\n",
      " 9.3312     13\n",
      " 7.2576     12\n",
      " 5.4432     11\n",
      "            ..\n",
      " 2.4640      1\n",
      "-34.3800     1\n",
      " 40.3760     1\n",
      " 3.0576      1\n",
      "-0.6048      1\n",
      "Name: Profit, Length: 2881, dtype: int64\n"
     ]
    }
   ],
   "source": [
    "#repeat the value counting function for rest of columns \n",
    "column_names = ['Segment', 'Country', 'City', 'State', 'Postal Code', 'Region', 'Product ID', 'Category', 'Sub-Category', 'Product Name', 'Sales', 'Quantity', 'Discount', 'Profit']\n",
    "for column in column_names:\n",
    "        print(df[column].value_counts())"
   ]
  },
  {
   "cell_type": "markdown",
   "id": "0668bb8e",
   "metadata": {},
   "source": [
    "### 3 consistency summary\n",
    "- all values are within a range thats reasonable for the dataset so no outliers are removed.\n",
    "- text is consistent in all but product name column where its unstructured and requires extensive reformatting to analyze, will keep for now but may delete.\n",
    "\n"
   ]
  },
  {
   "cell_type": "code",
   "execution_count": null,
   "id": "66c4f62c",
   "metadata": {},
   "outputs": [],
   "source": []
  }
 ],
 "metadata": {
  "kernelspec": {
   "display_name": "Python 3 (ipykernel)",
   "language": "python",
   "name": "python3"
  },
  "language_info": {
   "codemirror_mode": {
    "name": "ipython",
    "version": 3
   },
   "file_extension": ".py",
   "mimetype": "text/x-python",
   "name": "python",
   "nbconvert_exporter": "python",
   "pygments_lexer": "ipython3",
   "version": "3.10.12"
  }
 },
 "nbformat": 4,
 "nbformat_minor": 5
}
